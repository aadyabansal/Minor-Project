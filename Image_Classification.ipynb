{
  "nbformat": 4,
  "nbformat_minor": 0,
  "metadata": {
    "colab": {
      "name": "Image Classification.ipynb",
      "provenance": [],
      "mount_file_id": "1e9FFplqpItEbjs2ZyS9qsrQzvRgL91BQ",
      "authorship_tag": "ABX9TyPb2HYCdTvNTUxK8LJypHhU",
      "include_colab_link": true
    },
    "kernelspec": {
      "display_name": "Python 3",
      "name": "python3"
    },
    "language_info": {
      "name": "python"
    }
  },
  "cells": [
    {
      "cell_type": "markdown",
      "metadata": {
        "id": "view-in-github",
        "colab_type": "text"
      },
      "source": [
        "<a href=\"https://colab.research.google.com/github/aadyabansal/Minor-Project/blob/main/Image_Classification.ipynb\" target=\"_parent\"><img src=\"https://colab.research.google.com/assets/colab-badge.svg\" alt=\"Open In Colab\"/></a>"
      ]
    },
    {
      "cell_type": "code",
      "metadata": {
        "colab": {
          "base_uri": "https://localhost:8080/"
        },
        "id": "vvNpGJ-SYOrt",
        "outputId": "7b0f7f63-d81f-4cd7-b1d7-5a2b09808d44"
      },
      "source": [
        "import os\n",
        "import numpy as np\n",
        "import pandas as pd\n",
        "from skimage.io import imread\n",
        "from skimage.transform import resize\n",
        "import matplotlib.pyplot as plt\n",
        "\n",
        "!pip install ipython-autotime\n",
        "\n",
        "%load_ext autotime\n",
        "\n",
        "\n",
        "#Preprocessing\n",
        "\n",
        "datadir = '/content/drive/MyDrive/Vegetables'\n",
        "\n",
        "categories = ['Cucumber', 'Tomato', 'Onion'] \n",
        "target = []\n",
        "flat_data = []\n",
        "\n",
        "for i in categories:\n",
        "  path = os.path.join(datadir,i)\n",
        "  \n",
        "  for img in os.listdir(path):\n",
        "    img_array = imread(os.path.join(path,img),plugin='matplotlib')\n",
        "    img_resize = resize(img_array,(150,150,3))\n",
        "    flat_data.append(np.ndarray.flatten(img_resize))\n",
        "    target.append(i)\n",
        "\n",
        "flat_data = np.array(flat_data)\n",
        "target = np.array(target)"
      ],
      "execution_count": 1,
      "outputs": [
        {
          "output_type": "stream",
          "text": [
            "Collecting ipython-autotime\n",
            "  Downloading https://files.pythonhosted.org/packages/b4/c9/b413a24f759641bc27ef98c144b590023c8038dfb8a3f09e713e9dff12c1/ipython_autotime-0.3.1-py2.py3-none-any.whl\n",
            "Requirement already satisfied: ipython in /usr/local/lib/python3.7/dist-packages (from ipython-autotime) (5.5.0)\n",
            "Requirement already satisfied: pexpect; sys_platform != \"win32\" in /usr/local/lib/python3.7/dist-packages (from ipython->ipython-autotime) (4.8.0)\n",
            "Requirement already satisfied: pygments in /usr/local/lib/python3.7/dist-packages (from ipython->ipython-autotime) (2.6.1)\n",
            "Requirement already satisfied: setuptools>=18.5 in /usr/local/lib/python3.7/dist-packages (from ipython->ipython-autotime) (56.0.0)\n",
            "Requirement already satisfied: prompt-toolkit<2.0.0,>=1.0.4 in /usr/local/lib/python3.7/dist-packages (from ipython->ipython-autotime) (1.0.18)\n",
            "Requirement already satisfied: simplegeneric>0.8 in /usr/local/lib/python3.7/dist-packages (from ipython->ipython-autotime) (0.8.1)\n",
            "Requirement already satisfied: traitlets>=4.2 in /usr/local/lib/python3.7/dist-packages (from ipython->ipython-autotime) (5.0.5)\n",
            "Requirement already satisfied: decorator in /usr/local/lib/python3.7/dist-packages (from ipython->ipython-autotime) (4.4.2)\n",
            "Requirement already satisfied: pickleshare in /usr/local/lib/python3.7/dist-packages (from ipython->ipython-autotime) (0.7.5)\n",
            "Requirement already satisfied: ptyprocess>=0.5 in /usr/local/lib/python3.7/dist-packages (from pexpect; sys_platform != \"win32\"->ipython->ipython-autotime) (0.7.0)\n",
            "Requirement already satisfied: six>=1.9.0 in /usr/local/lib/python3.7/dist-packages (from prompt-toolkit<2.0.0,>=1.0.4->ipython->ipython-autotime) (1.15.0)\n",
            "Requirement already satisfied: wcwidth in /usr/local/lib/python3.7/dist-packages (from prompt-toolkit<2.0.0,>=1.0.4->ipython->ipython-autotime) (0.2.5)\n",
            "Requirement already satisfied: ipython-genutils in /usr/local/lib/python3.7/dist-packages (from traitlets>=4.2->ipython->ipython-autotime) (0.2.0)\n",
            "Installing collected packages: ipython-autotime\n",
            "Successfully installed ipython-autotime-0.3.1\n",
            "time: 3min 39s (started: 2021-04-30 13:30:07 +00:00)\n"
          ],
          "name": "stdout"
        }
      ]
    },
    {
      "cell_type": "code",
      "metadata": {
        "colab": {
          "base_uri": "https://localhost:8080/",
          "height": 261
        },
        "id": "2mO4OELr_dtt",
        "outputId": "244cf0aa-3c00-4fea-f97b-ea958c013b6e"
      },
      "source": [
        "df = pd.DataFrame(flat_data)\n",
        "df['Target'] = target\n",
        "df.head()"
      ],
      "execution_count": 2,
      "outputs": [
        {
          "output_type": "execute_result",
          "data": {
            "text/html": [
              "<div>\n",
              "<style scoped>\n",
              "    .dataframe tbody tr th:only-of-type {\n",
              "        vertical-align: middle;\n",
              "    }\n",
              "\n",
              "    .dataframe tbody tr th {\n",
              "        vertical-align: top;\n",
              "    }\n",
              "\n",
              "    .dataframe thead th {\n",
              "        text-align: right;\n",
              "    }\n",
              "</style>\n",
              "<table border=\"1\" class=\"dataframe\">\n",
              "  <thead>\n",
              "    <tr style=\"text-align: right;\">\n",
              "      <th></th>\n",
              "      <th>0</th>\n",
              "      <th>1</th>\n",
              "      <th>2</th>\n",
              "      <th>3</th>\n",
              "      <th>4</th>\n",
              "      <th>5</th>\n",
              "      <th>6</th>\n",
              "      <th>7</th>\n",
              "      <th>8</th>\n",
              "      <th>9</th>\n",
              "      <th>10</th>\n",
              "      <th>11</th>\n",
              "      <th>12</th>\n",
              "      <th>13</th>\n",
              "      <th>14</th>\n",
              "      <th>15</th>\n",
              "      <th>16</th>\n",
              "      <th>17</th>\n",
              "      <th>18</th>\n",
              "      <th>19</th>\n",
              "      <th>20</th>\n",
              "      <th>21</th>\n",
              "      <th>22</th>\n",
              "      <th>23</th>\n",
              "      <th>24</th>\n",
              "      <th>25</th>\n",
              "      <th>26</th>\n",
              "      <th>27</th>\n",
              "      <th>28</th>\n",
              "      <th>29</th>\n",
              "      <th>30</th>\n",
              "      <th>31</th>\n",
              "      <th>32</th>\n",
              "      <th>33</th>\n",
              "      <th>34</th>\n",
              "      <th>35</th>\n",
              "      <th>36</th>\n",
              "      <th>37</th>\n",
              "      <th>38</th>\n",
              "      <th>39</th>\n",
              "      <th>...</th>\n",
              "      <th>67461</th>\n",
              "      <th>67462</th>\n",
              "      <th>67463</th>\n",
              "      <th>67464</th>\n",
              "      <th>67465</th>\n",
              "      <th>67466</th>\n",
              "      <th>67467</th>\n",
              "      <th>67468</th>\n",
              "      <th>67469</th>\n",
              "      <th>67470</th>\n",
              "      <th>67471</th>\n",
              "      <th>67472</th>\n",
              "      <th>67473</th>\n",
              "      <th>67474</th>\n",
              "      <th>67475</th>\n",
              "      <th>67476</th>\n",
              "      <th>67477</th>\n",
              "      <th>67478</th>\n",
              "      <th>67479</th>\n",
              "      <th>67480</th>\n",
              "      <th>67481</th>\n",
              "      <th>67482</th>\n",
              "      <th>67483</th>\n",
              "      <th>67484</th>\n",
              "      <th>67485</th>\n",
              "      <th>67486</th>\n",
              "      <th>67487</th>\n",
              "      <th>67488</th>\n",
              "      <th>67489</th>\n",
              "      <th>67490</th>\n",
              "      <th>67491</th>\n",
              "      <th>67492</th>\n",
              "      <th>67493</th>\n",
              "      <th>67494</th>\n",
              "      <th>67495</th>\n",
              "      <th>67496</th>\n",
              "      <th>67497</th>\n",
              "      <th>67498</th>\n",
              "      <th>67499</th>\n",
              "      <th>Target</th>\n",
              "    </tr>\n",
              "  </thead>\n",
              "  <tbody>\n",
              "    <tr>\n",
              "      <th>0</th>\n",
              "      <td>0.388058</td>\n",
              "      <td>0.451964</td>\n",
              "      <td>0.405528</td>\n",
              "      <td>0.287180</td>\n",
              "      <td>0.344534</td>\n",
              "      <td>0.340509</td>\n",
              "      <td>0.283678</td>\n",
              "      <td>0.352281</td>\n",
              "      <td>0.304492</td>\n",
              "      <td>0.240287</td>\n",
              "      <td>0.317716</td>\n",
              "      <td>0.269223</td>\n",
              "      <td>0.306604</td>\n",
              "      <td>0.384653</td>\n",
              "      <td>0.381423</td>\n",
              "      <td>0.329716</td>\n",
              "      <td>0.413954</td>\n",
              "      <td>0.372233</td>\n",
              "      <td>0.337350</td>\n",
              "      <td>0.430148</td>\n",
              "      <td>0.383864</td>\n",
              "      <td>0.405451</td>\n",
              "      <td>0.489836</td>\n",
              "      <td>0.485916</td>\n",
              "      <td>0.403276</td>\n",
              "      <td>0.495956</td>\n",
              "      <td>0.446607</td>\n",
              "      <td>0.388407</td>\n",
              "      <td>0.482884</td>\n",
              "      <td>0.420106</td>\n",
              "      <td>0.398047</td>\n",
              "      <td>0.483929</td>\n",
              "      <td>0.451395</td>\n",
              "      <td>0.396826</td>\n",
              "      <td>0.479461</td>\n",
              "      <td>0.420195</td>\n",
              "      <td>0.330839</td>\n",
              "      <td>0.414031</td>\n",
              "      <td>0.350681</td>\n",
              "      <td>0.412527</td>\n",
              "      <td>...</td>\n",
              "      <td>0.188235</td>\n",
              "      <td>0.200000</td>\n",
              "      <td>0.274510</td>\n",
              "      <td>0.188235</td>\n",
              "      <td>0.200000</td>\n",
              "      <td>0.274510</td>\n",
              "      <td>0.188235</td>\n",
              "      <td>0.200000</td>\n",
              "      <td>0.274510</td>\n",
              "      <td>0.188235</td>\n",
              "      <td>0.200000</td>\n",
              "      <td>0.274510</td>\n",
              "      <td>0.188235</td>\n",
              "      <td>0.200000</td>\n",
              "      <td>0.274510</td>\n",
              "      <td>0.188235</td>\n",
              "      <td>0.200000</td>\n",
              "      <td>0.274510</td>\n",
              "      <td>0.188235</td>\n",
              "      <td>0.200000</td>\n",
              "      <td>0.274510</td>\n",
              "      <td>0.188235</td>\n",
              "      <td>0.200000</td>\n",
              "      <td>0.274510</td>\n",
              "      <td>0.188235</td>\n",
              "      <td>0.200000</td>\n",
              "      <td>0.274510</td>\n",
              "      <td>0.188235</td>\n",
              "      <td>0.200000</td>\n",
              "      <td>0.274510</td>\n",
              "      <td>0.188235</td>\n",
              "      <td>0.200000</td>\n",
              "      <td>0.274510</td>\n",
              "      <td>0.188235</td>\n",
              "      <td>0.200000</td>\n",
              "      <td>0.274510</td>\n",
              "      <td>0.188235</td>\n",
              "      <td>0.200000</td>\n",
              "      <td>0.274510</td>\n",
              "      <td>Cucumber</td>\n",
              "    </tr>\n",
              "    <tr>\n",
              "      <th>1</th>\n",
              "      <td>0.854902</td>\n",
              "      <td>0.844144</td>\n",
              "      <td>0.913725</td>\n",
              "      <td>0.854902</td>\n",
              "      <td>0.843369</td>\n",
              "      <td>0.913725</td>\n",
              "      <td>0.854902</td>\n",
              "      <td>0.843422</td>\n",
              "      <td>0.913725</td>\n",
              "      <td>0.854902</td>\n",
              "      <td>0.846466</td>\n",
              "      <td>0.913725</td>\n",
              "      <td>0.854902</td>\n",
              "      <td>0.850980</td>\n",
              "      <td>0.913725</td>\n",
              "      <td>0.854902</td>\n",
              "      <td>0.850980</td>\n",
              "      <td>0.913725</td>\n",
              "      <td>0.858824</td>\n",
              "      <td>0.854902</td>\n",
              "      <td>0.917647</td>\n",
              "      <td>0.858824</td>\n",
              "      <td>0.854902</td>\n",
              "      <td>0.917647</td>\n",
              "      <td>0.858824</td>\n",
              "      <td>0.854902</td>\n",
              "      <td>0.917647</td>\n",
              "      <td>0.855386</td>\n",
              "      <td>0.855784</td>\n",
              "      <td>0.917647</td>\n",
              "      <td>0.854902</td>\n",
              "      <td>0.860353</td>\n",
              "      <td>0.919176</td>\n",
              "      <td>0.854902</td>\n",
              "      <td>0.862745</td>\n",
              "      <td>0.921569</td>\n",
              "      <td>0.856536</td>\n",
              "      <td>0.864379</td>\n",
              "      <td>0.921569</td>\n",
              "      <td>0.858824</td>\n",
              "      <td>...</td>\n",
              "      <td>0.815686</td>\n",
              "      <td>0.823529</td>\n",
              "      <td>0.890196</td>\n",
              "      <td>0.815686</td>\n",
              "      <td>0.823529</td>\n",
              "      <td>0.890196</td>\n",
              "      <td>0.815686</td>\n",
              "      <td>0.823529</td>\n",
              "      <td>0.890196</td>\n",
              "      <td>0.815686</td>\n",
              "      <td>0.823529</td>\n",
              "      <td>0.890196</td>\n",
              "      <td>0.815686</td>\n",
              "      <td>0.823529</td>\n",
              "      <td>0.890196</td>\n",
              "      <td>0.815686</td>\n",
              "      <td>0.823529</td>\n",
              "      <td>0.890196</td>\n",
              "      <td>0.815686</td>\n",
              "      <td>0.823529</td>\n",
              "      <td>0.890196</td>\n",
              "      <td>0.815686</td>\n",
              "      <td>0.823014</td>\n",
              "      <td>0.889681</td>\n",
              "      <td>0.815686</td>\n",
              "      <td>0.819920</td>\n",
              "      <td>0.887281</td>\n",
              "      <td>0.815686</td>\n",
              "      <td>0.818810</td>\n",
              "      <td>0.886275</td>\n",
              "      <td>0.815686</td>\n",
              "      <td>0.815686</td>\n",
              "      <td>0.886275</td>\n",
              "      <td>0.815686</td>\n",
              "      <td>0.815686</td>\n",
              "      <td>0.886275</td>\n",
              "      <td>0.815686</td>\n",
              "      <td>0.815686</td>\n",
              "      <td>0.886275</td>\n",
              "      <td>Cucumber</td>\n",
              "    </tr>\n",
              "    <tr>\n",
              "      <th>2</th>\n",
              "      <td>0.992157</td>\n",
              "      <td>0.992157</td>\n",
              "      <td>0.992157</td>\n",
              "      <td>0.992157</td>\n",
              "      <td>0.992157</td>\n",
              "      <td>0.992157</td>\n",
              "      <td>0.992157</td>\n",
              "      <td>0.992157</td>\n",
              "      <td>0.992157</td>\n",
              "      <td>0.992157</td>\n",
              "      <td>0.992157</td>\n",
              "      <td>0.992157</td>\n",
              "      <td>0.992157</td>\n",
              "      <td>0.992157</td>\n",
              "      <td>0.992157</td>\n",
              "      <td>0.992157</td>\n",
              "      <td>0.992157</td>\n",
              "      <td>0.992157</td>\n",
              "      <td>0.992157</td>\n",
              "      <td>0.992157</td>\n",
              "      <td>0.992157</td>\n",
              "      <td>0.992157</td>\n",
              "      <td>0.992157</td>\n",
              "      <td>0.992157</td>\n",
              "      <td>0.992157</td>\n",
              "      <td>0.992157</td>\n",
              "      <td>0.992157</td>\n",
              "      <td>0.992157</td>\n",
              "      <td>0.992157</td>\n",
              "      <td>0.992157</td>\n",
              "      <td>0.992157</td>\n",
              "      <td>0.992157</td>\n",
              "      <td>0.992157</td>\n",
              "      <td>0.992157</td>\n",
              "      <td>0.992157</td>\n",
              "      <td>0.992157</td>\n",
              "      <td>0.992157</td>\n",
              "      <td>0.992157</td>\n",
              "      <td>0.992157</td>\n",
              "      <td>0.992157</td>\n",
              "      <td>...</td>\n",
              "      <td>0.992157</td>\n",
              "      <td>0.992157</td>\n",
              "      <td>0.992157</td>\n",
              "      <td>0.992157</td>\n",
              "      <td>0.992157</td>\n",
              "      <td>0.992157</td>\n",
              "      <td>0.992157</td>\n",
              "      <td>0.992157</td>\n",
              "      <td>0.992157</td>\n",
              "      <td>0.992157</td>\n",
              "      <td>0.992157</td>\n",
              "      <td>0.992157</td>\n",
              "      <td>0.992157</td>\n",
              "      <td>0.992157</td>\n",
              "      <td>0.992157</td>\n",
              "      <td>0.992157</td>\n",
              "      <td>0.992157</td>\n",
              "      <td>0.992157</td>\n",
              "      <td>0.992157</td>\n",
              "      <td>0.992157</td>\n",
              "      <td>0.992157</td>\n",
              "      <td>0.992157</td>\n",
              "      <td>0.992157</td>\n",
              "      <td>0.992157</td>\n",
              "      <td>0.992157</td>\n",
              "      <td>0.992157</td>\n",
              "      <td>0.992157</td>\n",
              "      <td>0.992157</td>\n",
              "      <td>0.992157</td>\n",
              "      <td>0.992157</td>\n",
              "      <td>0.992157</td>\n",
              "      <td>0.992157</td>\n",
              "      <td>0.992157</td>\n",
              "      <td>0.992157</td>\n",
              "      <td>0.992157</td>\n",
              "      <td>0.992157</td>\n",
              "      <td>0.992157</td>\n",
              "      <td>0.992157</td>\n",
              "      <td>0.992157</td>\n",
              "      <td>Cucumber</td>\n",
              "    </tr>\n",
              "    <tr>\n",
              "      <th>3</th>\n",
              "      <td>0.992157</td>\n",
              "      <td>0.992157</td>\n",
              "      <td>0.992157</td>\n",
              "      <td>0.992157</td>\n",
              "      <td>0.992157</td>\n",
              "      <td>0.992157</td>\n",
              "      <td>0.992157</td>\n",
              "      <td>0.992157</td>\n",
              "      <td>0.992157</td>\n",
              "      <td>0.992157</td>\n",
              "      <td>0.992157</td>\n",
              "      <td>0.992157</td>\n",
              "      <td>0.992157</td>\n",
              "      <td>0.992157</td>\n",
              "      <td>0.992157</td>\n",
              "      <td>0.992157</td>\n",
              "      <td>0.992157</td>\n",
              "      <td>0.992157</td>\n",
              "      <td>0.992157</td>\n",
              "      <td>0.992157</td>\n",
              "      <td>0.992157</td>\n",
              "      <td>0.992157</td>\n",
              "      <td>0.992157</td>\n",
              "      <td>0.992157</td>\n",
              "      <td>0.992157</td>\n",
              "      <td>0.992157</td>\n",
              "      <td>0.992157</td>\n",
              "      <td>0.992157</td>\n",
              "      <td>0.992157</td>\n",
              "      <td>0.992157</td>\n",
              "      <td>0.992157</td>\n",
              "      <td>0.992157</td>\n",
              "      <td>0.992157</td>\n",
              "      <td>0.992157</td>\n",
              "      <td>0.992157</td>\n",
              "      <td>0.992157</td>\n",
              "      <td>0.992157</td>\n",
              "      <td>0.992157</td>\n",
              "      <td>0.992157</td>\n",
              "      <td>0.992157</td>\n",
              "      <td>...</td>\n",
              "      <td>0.992157</td>\n",
              "      <td>0.992157</td>\n",
              "      <td>0.992157</td>\n",
              "      <td>0.992157</td>\n",
              "      <td>0.992157</td>\n",
              "      <td>0.992157</td>\n",
              "      <td>0.992157</td>\n",
              "      <td>0.992157</td>\n",
              "      <td>0.992157</td>\n",
              "      <td>0.992157</td>\n",
              "      <td>0.992157</td>\n",
              "      <td>0.992157</td>\n",
              "      <td>0.992157</td>\n",
              "      <td>0.992157</td>\n",
              "      <td>0.992157</td>\n",
              "      <td>0.992157</td>\n",
              "      <td>0.992157</td>\n",
              "      <td>0.992157</td>\n",
              "      <td>0.992157</td>\n",
              "      <td>0.992157</td>\n",
              "      <td>0.992157</td>\n",
              "      <td>0.992157</td>\n",
              "      <td>0.992157</td>\n",
              "      <td>0.992157</td>\n",
              "      <td>0.992157</td>\n",
              "      <td>0.992157</td>\n",
              "      <td>0.992157</td>\n",
              "      <td>0.992157</td>\n",
              "      <td>0.992157</td>\n",
              "      <td>0.992157</td>\n",
              "      <td>0.992157</td>\n",
              "      <td>0.992157</td>\n",
              "      <td>0.992157</td>\n",
              "      <td>0.992157</td>\n",
              "      <td>0.992157</td>\n",
              "      <td>0.992157</td>\n",
              "      <td>0.992157</td>\n",
              "      <td>0.992157</td>\n",
              "      <td>0.992157</td>\n",
              "      <td>Cucumber</td>\n",
              "    </tr>\n",
              "    <tr>\n",
              "      <th>4</th>\n",
              "      <td>0.274510</td>\n",
              "      <td>0.435294</td>\n",
              "      <td>0.301961</td>\n",
              "      <td>0.274510</td>\n",
              "      <td>0.435294</td>\n",
              "      <td>0.301961</td>\n",
              "      <td>0.274510</td>\n",
              "      <td>0.435294</td>\n",
              "      <td>0.301961</td>\n",
              "      <td>0.274510</td>\n",
              "      <td>0.435294</td>\n",
              "      <td>0.301961</td>\n",
              "      <td>0.274510</td>\n",
              "      <td>0.435294</td>\n",
              "      <td>0.301961</td>\n",
              "      <td>0.274510</td>\n",
              "      <td>0.435294</td>\n",
              "      <td>0.301961</td>\n",
              "      <td>0.274510</td>\n",
              "      <td>0.435294</td>\n",
              "      <td>0.301961</td>\n",
              "      <td>0.274510</td>\n",
              "      <td>0.435294</td>\n",
              "      <td>0.301961</td>\n",
              "      <td>0.274510</td>\n",
              "      <td>0.435294</td>\n",
              "      <td>0.301961</td>\n",
              "      <td>0.274510</td>\n",
              "      <td>0.435294</td>\n",
              "      <td>0.301961</td>\n",
              "      <td>0.274510</td>\n",
              "      <td>0.435294</td>\n",
              "      <td>0.301961</td>\n",
              "      <td>0.274510</td>\n",
              "      <td>0.435294</td>\n",
              "      <td>0.301961</td>\n",
              "      <td>0.274510</td>\n",
              "      <td>0.435294</td>\n",
              "      <td>0.301961</td>\n",
              "      <td>0.274510</td>\n",
              "      <td>...</td>\n",
              "      <td>0.274510</td>\n",
              "      <td>0.435294</td>\n",
              "      <td>0.301961</td>\n",
              "      <td>0.274510</td>\n",
              "      <td>0.435294</td>\n",
              "      <td>0.301961</td>\n",
              "      <td>0.274510</td>\n",
              "      <td>0.435294</td>\n",
              "      <td>0.301961</td>\n",
              "      <td>0.274510</td>\n",
              "      <td>0.435294</td>\n",
              "      <td>0.301961</td>\n",
              "      <td>0.274510</td>\n",
              "      <td>0.435294</td>\n",
              "      <td>0.301961</td>\n",
              "      <td>0.274510</td>\n",
              "      <td>0.435294</td>\n",
              "      <td>0.301961</td>\n",
              "      <td>0.274510</td>\n",
              "      <td>0.435294</td>\n",
              "      <td>0.301961</td>\n",
              "      <td>0.274510</td>\n",
              "      <td>0.435294</td>\n",
              "      <td>0.301961</td>\n",
              "      <td>0.274510</td>\n",
              "      <td>0.435294</td>\n",
              "      <td>0.301961</td>\n",
              "      <td>0.274510</td>\n",
              "      <td>0.435294</td>\n",
              "      <td>0.301961</td>\n",
              "      <td>0.274510</td>\n",
              "      <td>0.435294</td>\n",
              "      <td>0.301961</td>\n",
              "      <td>0.274510</td>\n",
              "      <td>0.435294</td>\n",
              "      <td>0.301961</td>\n",
              "      <td>0.274510</td>\n",
              "      <td>0.435294</td>\n",
              "      <td>0.301961</td>\n",
              "      <td>Cucumber</td>\n",
              "    </tr>\n",
              "  </tbody>\n",
              "</table>\n",
              "<p>5 rows × 67501 columns</p>\n",
              "</div>"
            ],
            "text/plain": [
              "          0         1         2  ...     67498     67499    Target\n",
              "0  0.388058  0.451964  0.405528  ...  0.200000  0.274510  Cucumber\n",
              "1  0.854902  0.844144  0.913725  ...  0.815686  0.886275  Cucumber\n",
              "2  0.992157  0.992157  0.992157  ...  0.992157  0.992157  Cucumber\n",
              "3  0.992157  0.992157  0.992157  ...  0.992157  0.992157  Cucumber\n",
              "4  0.274510  0.435294  0.301961  ...  0.435294  0.301961  Cucumber\n",
              "\n",
              "[5 rows x 67501 columns]"
            ]
          },
          "metadata": {
            "tags": []
          },
          "execution_count": 2
        },
        {
          "output_type": "stream",
          "text": [
            "time: 179 ms (started: 2021-04-30 13:33:47 +00:00)\n"
          ],
          "name": "stdout"
        }
      ]
    },
    {
      "cell_type": "code",
      "metadata": {
        "colab": {
          "base_uri": "https://localhost:8080/"
        },
        "id": "MDsj3Cb0Am5v",
        "outputId": "e4ac7a0e-65ee-4449-9fe5-b551556c004c"
      },
      "source": [
        "# Splitting data into Training and Testing data\n",
        "\n",
        "from sklearn.model_selection import train_test_split\n",
        "x_train,x_test,y_train,y_test = train_test_split(flat_data,target,test_size=0.3,random_state=42)"
      ],
      "execution_count": 3,
      "outputs": [
        {
          "output_type": "stream",
          "text": [
            "time: 255 ms (started: 2021-04-30 13:33:47 +00:00)\n"
          ],
          "name": "stdout"
        }
      ]
    },
    {
      "cell_type": "code",
      "metadata": {
        "colab": {
          "base_uri": "https://localhost:8080/"
        },
        "id": "L3QbS_6GEuq6",
        "outputId": "43fe5c87-ab62-4dea-951e-c775a69fd9b4"
      },
      "source": [
        "#Creating the model using SVC\n",
        "\n",
        "from sklearn import svm\n",
        "from sklearn.model_selection import GridSearchCV\n",
        "\n",
        "#Hyperparameter Tuning using GridSearchCV\n",
        "\n",
        "svc=svm.SVC(probability=True)\n",
        "param = {\n",
        "    'kernel':['linear','poly','rbf',],\n",
        "    'C':[0.1,1,10,100,1000]\n",
        "       \n",
        "}\n",
        "\n",
        "model = GridSearchCV(svc,param,cv= 3,n_jobs=)\n",
        "model.fit(x_train,y_train)\n",
        "model.best_params_"
      ],
      "execution_count": 7,
      "outputs": [
        {
          "output_type": "execute_result",
          "data": {
            "text/plain": [
              "{'C': 10, 'kernel': 'rbf'}"
            ]
          },
          "metadata": {
            "tags": []
          },
          "execution_count": 7
        },
        {
          "output_type": "stream",
          "text": [
            "time: 9min 15s (started: 2021-04-30 13:41:15 +00:00)\n"
          ],
          "name": "stdout"
        }
      ]
    },
    {
      "cell_type": "code",
      "metadata": {
        "colab": {
          "base_uri": "https://localhost:8080/"
        },
        "id": "boDio03ZCRi-",
        "outputId": "5bd20bae-4cd2-4a4f-b69a-1197e8479323"
      },
      "source": [
        "y_pred=model.predict(x_test)\n",
        "\n",
        "#Predicted Output\n",
        "y_pred"
      ],
      "execution_count": 8,
      "outputs": [
        {
          "output_type": "execute_result",
          "data": {
            "text/plain": [
              "array(['Tomato', 'Cucumber', 'Cucumber', 'Onion', 'Cucumber', 'Tomato',\n",
              "       'Onion', 'Cucumber', 'Onion', 'Tomato', 'Tomato', 'Cucumber',\n",
              "       'Onion', 'Onion', 'Onion', 'Onion', 'Cucumber', 'Tomato', 'Onion',\n",
              "       'Cucumber', 'Cucumber', 'Onion', 'Cucumber', 'Tomato', 'Onion',\n",
              "       'Tomato', 'Onion', 'Tomato', 'Tomato', 'Onion', 'Cucumber',\n",
              "       'Cucumber', 'Cucumber', 'Onion', 'Tomato', 'Cucumber', 'Cucumber',\n",
              "       'Cucumber', 'Tomato', 'Tomato', 'Onion', 'Onion', 'Cucumber',\n",
              "       'Tomato', 'Cucumber', 'Tomato', 'Cucumber', 'Cucumber', 'Cucumber',\n",
              "       'Cucumber', 'Tomato', 'Tomato', 'Onion', 'Tomato', 'Tomato',\n",
              "       'Onion', 'Cucumber', 'Cucumber', 'Tomato', 'Cucumber', 'Tomato',\n",
              "       'Onion', 'Cucumber', 'Cucumber', 'Onion', 'Tomato', 'Onion',\n",
              "       'Tomato', 'Tomato', 'Cucumber', 'Cucumber', 'Onion', 'Onion',\n",
              "       'Onion', 'Tomato', 'Tomato', 'Cucumber', 'Cucumber', 'Tomato',\n",
              "       'Cucumber', 'Cucumber', 'Onion', 'Cucumber', 'Cucumber',\n",
              "       'Cucumber', 'Onion', 'Onion', 'Tomato', 'Tomato', 'Cucumber',\n",
              "       'Onion', 'Cucumber', 'Tomato', 'Onion', 'Tomato', 'Tomato',\n",
              "       'Tomato', 'Cucumber', 'Tomato', 'Cucumber', 'Tomato', 'Onion',\n",
              "       'Onion', 'Tomato', 'Tomato', 'Onion', 'Onion', 'Onion', 'Onion',\n",
              "       'Onion', 'Onion', 'Tomato', 'Onion'], dtype='<U8')"
            ]
          },
          "metadata": {
            "tags": []
          },
          "execution_count": 8
        },
        {
          "output_type": "stream",
          "text": [
            "time: 2.92 s (started: 2021-04-30 13:50:30 +00:00)\n"
          ],
          "name": "stdout"
        }
      ]
    },
    {
      "cell_type": "code",
      "metadata": {
        "colab": {
          "base_uri": "https://localhost:8080/"
        },
        "id": "QhAysuTeoxVB",
        "outputId": "eb6582ce-6196-4ae3-afd2-06b282ff241a"
      },
      "source": [
        "#Real Output\n",
        "y_test"
      ],
      "execution_count": 9,
      "outputs": [
        {
          "output_type": "execute_result",
          "data": {
            "text/plain": [
              "array(['Tomato', 'Cucumber', 'Cucumber', 'Onion', 'Cucumber', 'Onion',\n",
              "       'Cucumber', 'Cucumber', 'Onion', 'Tomato', 'Tomato', 'Cucumber',\n",
              "       'Onion', 'Cucumber', 'Onion', 'Onion', 'Cucumber', 'Tomato',\n",
              "       'Onion', 'Cucumber', 'Cucumber', 'Tomato', 'Cucumber', 'Tomato',\n",
              "       'Onion', 'Tomato', 'Onion', 'Tomato', 'Tomato', 'Onion',\n",
              "       'Cucumber', 'Cucumber', 'Cucumber', 'Onion', 'Tomato', 'Cucumber',\n",
              "       'Cucumber', 'Cucumber', 'Tomato', 'Tomato', 'Onion', 'Onion',\n",
              "       'Cucumber', 'Tomato', 'Cucumber', 'Tomato', 'Cucumber', 'Cucumber',\n",
              "       'Cucumber', 'Cucumber', 'Tomato', 'Tomato', 'Onion', 'Tomato',\n",
              "       'Tomato', 'Onion', 'Cucumber', 'Cucumber', 'Tomato', 'Cucumber',\n",
              "       'Tomato', 'Onion', 'Cucumber', 'Cucumber', 'Onion', 'Cucumber',\n",
              "       'Onion', 'Tomato', 'Tomato', 'Cucumber', 'Cucumber', 'Tomato',\n",
              "       'Onion', 'Onion', 'Onion', 'Tomato', 'Cucumber', 'Cucumber',\n",
              "       'Onion', 'Cucumber', 'Cucumber', 'Onion', 'Cucumber', 'Cucumber',\n",
              "       'Cucumber', 'Onion', 'Onion', 'Onion', 'Tomato', 'Cucumber',\n",
              "       'Onion', 'Cucumber', 'Tomato', 'Onion', 'Tomato', 'Tomato',\n",
              "       'Tomato', 'Cucumber', 'Tomato', 'Cucumber', 'Tomato', 'Onion',\n",
              "       'Onion', 'Tomato', 'Tomato', 'Onion', 'Onion', 'Onion', 'Onion',\n",
              "       'Onion', 'Onion', 'Tomato', 'Onion'], dtype='<U8')"
            ]
          },
          "metadata": {
            "tags": []
          },
          "execution_count": 9
        },
        {
          "output_type": "stream",
          "text": [
            "time: 4.62 ms (started: 2021-04-30 13:50:33 +00:00)\n"
          ],
          "name": "stdout"
        }
      ]
    },
    {
      "cell_type": "code",
      "metadata": {
        "colab": {
          "base_uri": "https://localhost:8080/"
        },
        "id": "UlLwTNUPo1OO",
        "outputId": "16285fda-4afb-4f92-afc9-65c73050802f"
      },
      "source": [
        "#Evaluation of Model\n",
        "from sklearn.metrics import accuracy_score,confusion_matrix\n",
        "\n",
        "accuracy_score(y_pred,y_test)"
      ],
      "execution_count": 10,
      "outputs": [
        {
          "output_type": "execute_result",
          "data": {
            "text/plain": [
              "0.9203539823008849"
            ]
          },
          "metadata": {
            "tags": []
          },
          "execution_count": 10
        },
        {
          "output_type": "stream",
          "text": [
            "time: 9.38 ms (started: 2021-04-30 13:50:33 +00:00)\n"
          ],
          "name": "stdout"
        }
      ]
    },
    {
      "cell_type": "code",
      "metadata": {
        "colab": {
          "base_uri": "https://localhost:8080/"
        },
        "id": "znroH0eot-mg",
        "outputId": "4a5de9c1-883f-42e7-e0e9-beae2afcef7a"
      },
      "source": [
        "confusion_matrix(y_pred,y_test)"
      ],
      "execution_count": 11,
      "outputs": [
        {
          "output_type": "execute_result",
          "data": {
            "text/plain": [
              "array([[39,  0,  0],\n",
              "       [ 2, 33,  2],\n",
              "       [ 1,  4, 32]])"
            ]
          },
          "metadata": {
            "tags": []
          },
          "execution_count": 11
        },
        {
          "output_type": "stream",
          "text": [
            "time: 12.2 ms (started: 2021-04-30 13:50:33 +00:00)\n"
          ],
          "name": "stdout"
        }
      ]
    },
    {
      "cell_type": "code",
      "metadata": {
        "colab": {
          "base_uri": "https://localhost:8080/"
        },
        "id": "42rjjvy1yJLU",
        "outputId": "921d4dd6-6369-44ea-cb72-469b0e657843"
      },
      "source": [
        "from sklearn.metrics import classification_report\n",
        "\n",
        "print(classification_report(y_test, y_pred))"
      ],
      "execution_count": 12,
      "outputs": [
        {
          "output_type": "stream",
          "text": [
            "              precision    recall  f1-score   support\n",
            "\n",
            "    Cucumber       1.00      0.93      0.96        42\n",
            "       Onion       0.89      0.89      0.89        37\n",
            "      Tomato       0.86      0.94      0.90        34\n",
            "\n",
            "    accuracy                           0.92       113\n",
            "   macro avg       0.92      0.92      0.92       113\n",
            "weighted avg       0.92      0.92      0.92       113\n",
            "\n",
            "time: 13.4 ms (started: 2021-04-30 13:50:33 +00:00)\n"
          ],
          "name": "stdout"
        }
      ]
    },
    {
      "cell_type": "code",
      "metadata": {
        "colab": {
          "base_uri": "https://localhost:8080/"
        },
        "id": "rfV8H3mk5G-Y",
        "outputId": "e0e640b5-61ff-4544-ea14-a65c0e8a145a"
      },
      "source": [
        "# Saving the Model\n",
        "import pickle\n",
        "pickle.dump(model,open('classification_img_model.p','wb'))"
      ],
      "execution_count": 13,
      "outputs": [
        {
          "output_type": "stream",
          "text": [
            "time: 147 ms (started: 2021-04-30 13:50:33 +00:00)\n"
          ],
          "name": "stdout"
        }
      ]
    },
    {
      "cell_type": "code",
      "metadata": {
        "colab": {
          "base_uri": "https://localhost:8080/",
          "height": 336
        },
        "id": "ul58c6ABTpcD",
        "outputId": "26d81ebf-5701-4411-8fca-1ce47cae3598"
      },
      "source": [
        "#Testing for a new image\n",
        "\n",
        "flat_data = []\n",
        "url=input('Enter URL of the picture')\n",
        "img=imread(url)\n",
        "img_resized=resize(img,(150,150,3))\n",
        "flat_data.append(img_resized.flatten())\n",
        "flat_data=np.array(flat_data)\n",
        "print(img.shape)\n",
        "plt.imshow(img_resized)\n",
        "y_out=model.predict(flat_data)\n",
        "print(f'Predicted Output:  {y_out}')"
      ],
      "execution_count": 17,
      "outputs": [
        {
          "output_type": "stream",
          "text": [
            "Enter URL of the picturehttps://img.freepik.com/free-photo/green-cucumbers-isolated_88281-3921.jpg?size=626&ext=jpg\n",
            "(341, 626, 3)\n",
            "Predicted Output:  ['Cucumber']\n"
          ],
          "name": "stdout"
        },
        {
          "output_type": "display_data",
          "data": {
            "image/png": "[encoded data removed]",
            "text/plain": [
              "<Figure size 432x288 with 1 Axes>"
            ]
          },
          "metadata": {
            "tags": [],
            "needs_background": "light"
          }
        },
        {
          "output_type": "stream",
          "text": [
            "time: 4.35 s (started: 2021-04-30 13:56:44 +00:00)\n"
          ],
          "name": "stdout"
        }
      ]
    },
    {
      "cell_type": "code",
      "metadata": {
        "colab": {
          "base_uri": "https://localhost:8080/",
          "height": 52
        },
        "id": "1r40B8RsDkAW",
        "outputId": "2875044b-89cc-407f-f1ef-d903a37db222"
      },
      "source": [
        "!python --version\n",
        "import sklearn\n",
        "sklearn.__version__"
      ],
      "execution_count": 18,
      "outputs": [
        {
          "output_type": "stream",
          "text": [
            "Python 3.7.10\n"
          ],
          "name": "stdout"
        },
        {
          "output_type": "execute_result",
          "data": {
            "application/vnd.google.colaboratory.intrinsic+json": {
              "type": "string"
            },
            "text/plain": [
              "'0.22.2.post1'"
            ]
          },
          "metadata": {
            "tags": []
          },
          "execution_count": 18
        },
        {
          "output_type": "stream",
          "text": [
            "time: 150 ms (started: 2021-04-30 13:57:35 +00:00)\n"
          ],
          "name": "stdout"
        }
      ]
    }
  ]
}